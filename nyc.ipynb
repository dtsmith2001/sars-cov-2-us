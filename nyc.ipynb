{
 "cells": [
  {
   "cell_type": "code",
   "execution_count": 1,
   "metadata": {},
   "outputs": [],
   "source": [
    "import numpy as np\n",
    "import pandas as pd"
   ]
  },
  {
   "cell_type": "code",
   "execution_count": 2,
   "metadata": {},
   "outputs": [],
   "source": [
    "the_dtypes = {\"date\": str, \"county\": str, \"state\": str, \"fips\": object, \"cases\": int, \"deaths\": int}\n",
    "the_na_vals = {\"fips\": \"NaN\"}"
   ]
  },
  {
   "cell_type": "code",
   "execution_count": 3,
   "metadata": {},
   "outputs": [],
   "source": [
    "counties = pd.read_csv(\"us-counties.csv\",\n",
    "                       parse_dates=[\"date\"],\n",
    "                       infer_datetime_format=True,\n",
    "                       dtype=the_dtypes,\n",
    "                       na_values=the_na_vals).drop(axis=1, labels=[\"fips\"])"
   ]
  },
  {
   "cell_type": "code",
   "execution_count": 4,
   "metadata": {},
   "outputs": [],
   "source": [
    "ll = [counties[counties[\"county\"] == 'New York City'],\n",
    "      counties[(counties[\"county\"] == \"Fairfield\") & (counties[\"state\"] == \"Connecticut\")],\n",
    "      counties[counties[\"county\"] == \"Westchester\"],\n",
    "      counties[counties[\"county\"] == \"Bergen\"]]"
   ]
  },
  {
   "cell_type": "code",
   "execution_count": 5,
   "metadata": {},
   "outputs": [],
   "source": [
    "greater_nyc_temp = pd.concat(ll).drop(axis=1, labels=[\"state\"])\n",
    "greater_nyc = greater_nyc_temp.pivot(index=\"date\", columns=\"county\", values=\"cases\")"
   ]
  },
  {
   "cell_type": "code",
   "execution_count": 6,
   "metadata": {},
   "outputs": [],
   "source": [
    "greater_nyc.loc[:, \"Total Cases\"] = greater_nyc.sum(axis=1)"
   ]
  },
  {
   "cell_type": "code",
   "execution_count": 7,
   "metadata": {},
   "outputs": [
    {
     "data": {
      "text/html": [
       "<div>\n",
       "<style scoped>\n",
       "    .dataframe tbody tr th:only-of-type {\n",
       "        vertical-align: middle;\n",
       "    }\n",
       "\n",
       "    .dataframe tbody tr th {\n",
       "        vertical-align: top;\n",
       "    }\n",
       "\n",
       "    .dataframe thead th {\n",
       "        text-align: right;\n",
       "    }\n",
       "</style>\n",
       "<table border=\"1\" class=\"dataframe\">\n",
       "  <thead>\n",
       "    <tr style=\"text-align: right;\">\n",
       "      <th>county</th>\n",
       "      <th>Bergen</th>\n",
       "      <th>Fairfield</th>\n",
       "      <th>New York City</th>\n",
       "      <th>Westchester</th>\n",
       "      <th>Total Cases</th>\n",
       "    </tr>\n",
       "    <tr>\n",
       "      <th>date</th>\n",
       "      <th></th>\n",
       "      <th></th>\n",
       "      <th></th>\n",
       "      <th></th>\n",
       "      <th></th>\n",
       "    </tr>\n",
       "  </thead>\n",
       "  <tbody>\n",
       "    <tr>\n",
       "      <th>2020-03-01</th>\n",
       "      <td>NaN</td>\n",
       "      <td>NaN</td>\n",
       "      <td>1.0</td>\n",
       "      <td>NaN</td>\n",
       "      <td>1.0</td>\n",
       "    </tr>\n",
       "    <tr>\n",
       "      <th>2020-03-02</th>\n",
       "      <td>NaN</td>\n",
       "      <td>NaN</td>\n",
       "      <td>1.0</td>\n",
       "      <td>NaN</td>\n",
       "      <td>1.0</td>\n",
       "    </tr>\n",
       "    <tr>\n",
       "      <th>2020-03-03</th>\n",
       "      <td>NaN</td>\n",
       "      <td>NaN</td>\n",
       "      <td>2.0</td>\n",
       "      <td>NaN</td>\n",
       "      <td>2.0</td>\n",
       "    </tr>\n",
       "    <tr>\n",
       "      <th>2020-03-04</th>\n",
       "      <td>1.0</td>\n",
       "      <td>NaN</td>\n",
       "      <td>2.0</td>\n",
       "      <td>9.0</td>\n",
       "      <td>12.0</td>\n",
       "    </tr>\n",
       "    <tr>\n",
       "      <th>2020-03-05</th>\n",
       "      <td>2.0</td>\n",
       "      <td>NaN</td>\n",
       "      <td>4.0</td>\n",
       "      <td>17.0</td>\n",
       "      <td>23.0</td>\n",
       "    </tr>\n",
       "    <tr>\n",
       "      <th>2020-03-06</th>\n",
       "      <td>3.0</td>\n",
       "      <td>NaN</td>\n",
       "      <td>5.0</td>\n",
       "      <td>33.0</td>\n",
       "      <td>41.0</td>\n",
       "    </tr>\n",
       "    <tr>\n",
       "      <th>2020-03-07</th>\n",
       "      <td>3.0</td>\n",
       "      <td>NaN</td>\n",
       "      <td>12.0</td>\n",
       "      <td>69.0</td>\n",
       "      <td>84.0</td>\n",
       "    </tr>\n",
       "    <tr>\n",
       "      <th>2020-03-08</th>\n",
       "      <td>4.0</td>\n",
       "      <td>1.0</td>\n",
       "      <td>14.0</td>\n",
       "      <td>81.0</td>\n",
       "      <td>100.0</td>\n",
       "    </tr>\n",
       "    <tr>\n",
       "      <th>2020-03-09</th>\n",
       "      <td>5.0</td>\n",
       "      <td>2.0</td>\n",
       "      <td>20.0</td>\n",
       "      <td>97.0</td>\n",
       "      <td>124.0</td>\n",
       "    </tr>\n",
       "    <tr>\n",
       "      <th>2020-03-10</th>\n",
       "      <td>7.0</td>\n",
       "      <td>2.0</td>\n",
       "      <td>37.0</td>\n",
       "      <td>107.0</td>\n",
       "      <td>153.0</td>\n",
       "    </tr>\n",
       "    <tr>\n",
       "      <th>2020-03-11</th>\n",
       "      <td>11.0</td>\n",
       "      <td>3.0</td>\n",
       "      <td>52.0</td>\n",
       "      <td>120.0</td>\n",
       "      <td>186.0</td>\n",
       "    </tr>\n",
       "    <tr>\n",
       "      <th>2020-03-12</th>\n",
       "      <td>13.0</td>\n",
       "      <td>5.0</td>\n",
       "      <td>96.0</td>\n",
       "      <td>147.0</td>\n",
       "      <td>261.0</td>\n",
       "    </tr>\n",
       "    <tr>\n",
       "      <th>2020-03-13</th>\n",
       "      <td>17.0</td>\n",
       "      <td>8.0</td>\n",
       "      <td>155.0</td>\n",
       "      <td>157.0</td>\n",
       "      <td>337.0</td>\n",
       "    </tr>\n",
       "    <tr>\n",
       "      <th>2020-03-14</th>\n",
       "      <td>31.0</td>\n",
       "      <td>15.0</td>\n",
       "      <td>269.0</td>\n",
       "      <td>178.0</td>\n",
       "      <td>493.0</td>\n",
       "    </tr>\n",
       "    <tr>\n",
       "      <th>2020-03-15</th>\n",
       "      <td>32.0</td>\n",
       "      <td>16.0</td>\n",
       "      <td>330.0</td>\n",
       "      <td>195.0</td>\n",
       "      <td>573.0</td>\n",
       "    </tr>\n",
       "    <tr>\n",
       "      <th>2020-03-16</th>\n",
       "      <td>61.0</td>\n",
       "      <td>29.0</td>\n",
       "      <td>464.0</td>\n",
       "      <td>219.0</td>\n",
       "      <td>773.0</td>\n",
       "    </tr>\n",
       "    <tr>\n",
       "      <th>2020-03-17</th>\n",
       "      <td>84.0</td>\n",
       "      <td>48.0</td>\n",
       "      <td>645.0</td>\n",
       "      <td>379.0</td>\n",
       "      <td>1156.0</td>\n",
       "    </tr>\n",
       "    <tr>\n",
       "      <th>2020-03-18</th>\n",
       "      <td>133.0</td>\n",
       "      <td>69.0</td>\n",
       "      <td>1339.0</td>\n",
       "      <td>537.0</td>\n",
       "      <td>2078.0</td>\n",
       "    </tr>\n",
       "    <tr>\n",
       "      <th>2020-03-19</th>\n",
       "      <td>297.0</td>\n",
       "      <td>102.0</td>\n",
       "      <td>2468.0</td>\n",
       "      <td>797.0</td>\n",
       "      <td>3664.0</td>\n",
       "    </tr>\n",
       "    <tr>\n",
       "      <th>2020-03-20</th>\n",
       "      <td>342.0</td>\n",
       "      <td>122.0</td>\n",
       "      <td>4408.0</td>\n",
       "      <td>1091.0</td>\n",
       "      <td>5963.0</td>\n",
       "    </tr>\n",
       "    <tr>\n",
       "      <th>2020-03-21</th>\n",
       "      <td>362.0</td>\n",
       "      <td>140.0</td>\n",
       "      <td>6211.0</td>\n",
       "      <td>1387.0</td>\n",
       "      <td>8100.0</td>\n",
       "    </tr>\n",
       "    <tr>\n",
       "      <th>2020-03-22</th>\n",
       "      <td>457.0</td>\n",
       "      <td>208.0</td>\n",
       "      <td>9045.0</td>\n",
       "      <td>1873.0</td>\n",
       "      <td>11583.0</td>\n",
       "    </tr>\n",
       "    <tr>\n",
       "      <th>2020-03-23</th>\n",
       "      <td>609.0</td>\n",
       "      <td>270.0</td>\n",
       "      <td>12305.0</td>\n",
       "      <td>2894.0</td>\n",
       "      <td>16078.0</td>\n",
       "    </tr>\n",
       "    <tr>\n",
       "      <th>2020-03-24</th>\n",
       "      <td>701.0</td>\n",
       "      <td>384.0</td>\n",
       "      <td>14905.0</td>\n",
       "      <td>3891.0</td>\n",
       "      <td>19881.0</td>\n",
       "    </tr>\n",
       "    <tr>\n",
       "      <th>2020-03-25</th>\n",
       "      <td>819.0</td>\n",
       "      <td>546.0</td>\n",
       "      <td>20011.0</td>\n",
       "      <td>4691.0</td>\n",
       "      <td>26067.0</td>\n",
       "    </tr>\n",
       "    <tr>\n",
       "      <th>2020-03-26</th>\n",
       "      <td>1206.0</td>\n",
       "      <td>607.0</td>\n",
       "      <td>23112.0</td>\n",
       "      <td>5944.0</td>\n",
       "      <td>30869.0</td>\n",
       "    </tr>\n",
       "    <tr>\n",
       "      <th>2020-03-27</th>\n",
       "      <td>1505.0</td>\n",
       "      <td>752.0</td>\n",
       "      <td>25399.0</td>\n",
       "      <td>7187.0</td>\n",
       "      <td>34843.0</td>\n",
       "    </tr>\n",
       "    <tr>\n",
       "      <th>2020-03-28</th>\n",
       "      <td>1838.0</td>\n",
       "      <td>908.0</td>\n",
       "      <td>30766.0</td>\n",
       "      <td>7875.0</td>\n",
       "      <td>41387.0</td>\n",
       "    </tr>\n",
       "    <tr>\n",
       "      <th>2020-03-29</th>\n",
       "      <td>2169.0</td>\n",
       "      <td>1245.0</td>\n",
       "      <td>33768.0</td>\n",
       "      <td>8519.0</td>\n",
       "      <td>45701.0</td>\n",
       "    </tr>\n",
       "    <tr>\n",
       "      <th>2020-03-30</th>\n",
       "      <td>2482.0</td>\n",
       "      <td>1445.0</td>\n",
       "      <td>38087.0</td>\n",
       "      <td>9326.0</td>\n",
       "      <td>51340.0</td>\n",
       "    </tr>\n",
       "    <tr>\n",
       "      <th>2020-03-31</th>\n",
       "      <td>2909.0</td>\n",
       "      <td>1870.0</td>\n",
       "      <td>43139.0</td>\n",
       "      <td>9967.0</td>\n",
       "      <td>57885.0</td>\n",
       "    </tr>\n",
       "  </tbody>\n",
       "</table>\n",
       "</div>"
      ],
      "text/plain": [
       "county      Bergen  Fairfield  New York City  Westchester  Total Cases\n",
       "date                                                                  \n",
       "2020-03-01     NaN        NaN            1.0          NaN          1.0\n",
       "2020-03-02     NaN        NaN            1.0          NaN          1.0\n",
       "2020-03-03     NaN        NaN            2.0          NaN          2.0\n",
       "2020-03-04     1.0        NaN            2.0          9.0         12.0\n",
       "2020-03-05     2.0        NaN            4.0         17.0         23.0\n",
       "2020-03-06     3.0        NaN            5.0         33.0         41.0\n",
       "2020-03-07     3.0        NaN           12.0         69.0         84.0\n",
       "2020-03-08     4.0        1.0           14.0         81.0        100.0\n",
       "2020-03-09     5.0        2.0           20.0         97.0        124.0\n",
       "2020-03-10     7.0        2.0           37.0        107.0        153.0\n",
       "2020-03-11    11.0        3.0           52.0        120.0        186.0\n",
       "2020-03-12    13.0        5.0           96.0        147.0        261.0\n",
       "2020-03-13    17.0        8.0          155.0        157.0        337.0\n",
       "2020-03-14    31.0       15.0          269.0        178.0        493.0\n",
       "2020-03-15    32.0       16.0          330.0        195.0        573.0\n",
       "2020-03-16    61.0       29.0          464.0        219.0        773.0\n",
       "2020-03-17    84.0       48.0          645.0        379.0       1156.0\n",
       "2020-03-18   133.0       69.0         1339.0        537.0       2078.0\n",
       "2020-03-19   297.0      102.0         2468.0        797.0       3664.0\n",
       "2020-03-20   342.0      122.0         4408.0       1091.0       5963.0\n",
       "2020-03-21   362.0      140.0         6211.0       1387.0       8100.0\n",
       "2020-03-22   457.0      208.0         9045.0       1873.0      11583.0\n",
       "2020-03-23   609.0      270.0        12305.0       2894.0      16078.0\n",
       "2020-03-24   701.0      384.0        14905.0       3891.0      19881.0\n",
       "2020-03-25   819.0      546.0        20011.0       4691.0      26067.0\n",
       "2020-03-26  1206.0      607.0        23112.0       5944.0      30869.0\n",
       "2020-03-27  1505.0      752.0        25399.0       7187.0      34843.0\n",
       "2020-03-28  1838.0      908.0        30766.0       7875.0      41387.0\n",
       "2020-03-29  2169.0     1245.0        33768.0       8519.0      45701.0\n",
       "2020-03-30  2482.0     1445.0        38087.0       9326.0      51340.0\n",
       "2020-03-31  2909.0     1870.0        43139.0       9967.0      57885.0"
      ]
     },
     "execution_count": 7,
     "metadata": {},
     "output_type": "execute_result"
    }
   ],
   "source": [
    "greater_nyc"
   ]
  },
  {
   "cell_type": "code",
   "execution_count": 8,
   "metadata": {},
   "outputs": [
    {
     "data": {
      "text/plain": [
       "<matplotlib.axes._subplots.AxesSubplot at 0x11b02a8d0>"
      ]
     },
     "execution_count": 8,
     "metadata": {},
     "output_type": "execute_result"
    },
    {
     "data": {
      "image/png": "[encoded data removed]",
      "text/plain": [
       "<Figure size 432x288 with 1 Axes>"
      ]
     },
     "metadata": {
      "needs_background": "light"
     },
     "output_type": "display_data"
    }
   ],
   "source": [
    "greater_nyc[\"Total Cases\"].plot(x=\"date\", y=\"\")"
   ]
  },
  {
   "cell_type": "code",
   "execution_count": 9,
   "metadata": {},
   "outputs": [
    {
     "data": {
      "text/plain": [
       "<matplotlib.axes._subplots.AxesSubplot at 0x11df56c50>"
      ]
     },
     "execution_count": 9,
     "metadata": {},
     "output_type": "execute_result"
    },
    {
     "data": {
      "image/png": "[encoded data removed]",
      "text/plain": [
       "<Figure size 432x288 with 1 Axes>"
      ]
     },
     "metadata": {
      "needs_background": "light"
     },
     "output_type": "display_data"
    }
   ],
   "source": [
    "#counties[counties[\"county\"] == \"New York City\"].plot(x=\"date\", y=\"cases\")\n",
    "greater_nyc[\"New York City\"].plot(x=\"date\", y=\"cases\")"
   ]
  },
  {
   "cell_type": "code",
   "execution_count": 10,
   "metadata": {},
   "outputs": [
    {
     "data": {
      "text/plain": [
       "<matplotlib.axes._subplots.AxesSubplot at 0x11e090910>"
      ]
     },
     "execution_count": 10,
     "metadata": {},
     "output_type": "execute_result"
    },
    {
     "data": {
      "image/png": "[encoded data removed]",
      "text/plain": [
       "<Figure size 432x288 with 1 Axes>"
      ]
     },
     "metadata": {
      "needs_background": "light"
     },
     "output_type": "display_data"
    }
   ],
   "source": [
    "#counties[(counties[\"county\"] == \"Fairfield\") & (counties[\"state\"] == \"Connecticut\")].plot(x=\"date\", y=\"cases\")\n",
    "greater_nyc[\"Fairfield\"].plot(x=\"date\", y=\"cases\")"
   ]
  },
  {
   "cell_type": "code",
   "execution_count": 11,
   "metadata": {},
   "outputs": [
    {
     "data": {
      "text/plain": [
       "<matplotlib.axes._subplots.AxesSubplot at 0x11e1bb450>"
      ]
     },
     "execution_count": 11,
     "metadata": {},
     "output_type": "execute_result"
    },
    {
     "data": {
      "image/png": "[encoded data removed]",
      "text/plain": [
       "<Figure size 432x288 with 1 Axes>"
      ]
     },
     "metadata": {
      "needs_background": "light"
     },
     "output_type": "display_data"
    }
   ],
   "source": [
    "#counties[counties[\"county\"] == \"Bergen\"].plot(x=\"date\", y=\"cases\")\n",
    "greater_nyc[\"Westchester\"].plot(x=\"date\", y=\"cases\")"
   ]
  },
  {
   "cell_type": "code",
   "execution_count": 12,
   "metadata": {},
   "outputs": [
    {
     "data": {
      "text/plain": [
       "<matplotlib.axes._subplots.AxesSubplot at 0x11e2d9490>"
      ]
     },
     "execution_count": 12,
     "metadata": {},
     "output_type": "execute_result"
    },
    {
     "data": {
      "image/png": "[encoded data removed]",
      "text/plain": [
       "<Figure size 432x288 with 1 Axes>"
      ]
     },
     "metadata": {
      "needs_background": "light"
     },
     "output_type": "display_data"
    }
   ],
   "source": [
    "#counties[counties[\"county\"] == \"Westchester\"].plot(x=\"date\", y=\"cases\")\n",
    "greater_nyc[\"New York City\"].plot(x=\"date\", y=\"cases\")"
   ]
  },
  {
   "cell_type": "code",
   "execution_count": 13,
   "metadata": {},
   "outputs": [
    {
     "data": {
      "text/plain": [
       "<matplotlib.axes._subplots.AxesSubplot at 0x11e3b9a10>"
      ]
     },
     "execution_count": 13,
     "metadata": {},
     "output_type": "execute_result"
    },
    {
     "data": {
      "image/png": "[encoded data removed]",
      "text/plain": [
       "<Figure size 432x288 with 1 Axes>"
      ]
     },
     "metadata": {
      "needs_background": "light"
     },
     "output_type": "display_data"
    }
   ],
   "source": [
    "greater_nyc[\"Bergen\"].plot(x=\"date\", y=\"cases\")"
   ]
  },
  {
   "cell_type": "code",
   "execution_count": null,
   "metadata": {},
   "outputs": [],
   "source": []
  }
 ],
 "metadata": {
  "kernelspec": {
   "display_name": "Python 3",
   "language": "python",
   "name": "python3"
  },
  "language_info": {
   "codemirror_mode": {
    "name": "ipython",
    "version": 3
   },
   "file_extension": ".py",
   "mimetype": "text/x-python",
   "name": "python",
   "nbconvert_exporter": "python",
   "pygments_lexer": "ipython3",
   "version": "3.7.7"
  }
 },
 "nbformat": 4,
 "nbformat_minor": 4
}
