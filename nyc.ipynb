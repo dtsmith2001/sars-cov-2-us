{
 "cells": [
  {
   "cell_type": "code",
   "execution_count": 1,
   "metadata": {},
   "outputs": [],
   "source": [
    "import numpy as np\n",
    "import pandas as pd\n",
    "import matplotlib as mpl\n",
    "import matplotlib.pyplot as plt\n",
    "import ipywidgets\n",
    "%matplotlib notebook"
   ]
  },
  {
   "cell_type": "code",
   "execution_count": 2,
   "metadata": {},
   "outputs": [],
   "source": [
    "the_dtypes = {\"date\": str, \"county\": str, \"state\": str, \"fips\": object, \"cases\": int, \"deaths\": int}\n",
    "the_na_vals = {\"fips\": \"NaN\"}"
   ]
  },
  {
   "cell_type": "code",
   "execution_count": 3,
   "metadata": {},
   "outputs": [],
   "source": [
    "counties = pd.read_csv(\"us-counties.csv\",\n",
    "                       parse_dates=[\"date\"],\n",
    "                       infer_datetime_format=True,\n",
    "                       dtype=the_dtypes,\n",
    "                       na_values=the_na_vals).drop(axis=1, labels=[\"fips\"])"
   ]
  },
  {
   "cell_type": "code",
   "execution_count": 4,
   "metadata": {},
   "outputs": [],
   "source": [
    "ll = [counties[counties[\"county\"] == 'New York City'],\n",
    "      counties[(counties[\"county\"] == \"Fairfield\") & (counties[\"state\"] == \"Connecticut\")],\n",
    "      counties[(counties[\"county\"] == \"New Haven\") & (counties[\"state\"] == \"Connecticut\")],\n",
    "      counties[(counties[\"county\"] == \"Bergen\") & (counties[\"state\"] == \"New Jersey\")],\n",
    "      counties[(counties[\"county\"] == \"Passaic\") & (counties[\"state\"] == \"New Jersey\")],\n",
    "      counties[(counties[\"county\"] == \"Essex\") & (counties[\"state\"] == \"New Jersey\")],\n",
    "      counties[(counties[\"county\"] == \"Union\") & (counties[\"state\"] == \"New Jersey\")],\n",
    "      counties[(counties[\"county\"] == \"Middlesex\") & (counties[\"state\"] == \"New Jersey\")],\n",
    "      counties[(counties[\"county\"] == \"Sussex\") & (counties[\"state\"] == \"New Jersey\")],\n",
    "      counties[(counties[\"county\"] == \"Monmouth\") & (counties[\"state\"] == \"New Jersey\")],\n",
    "      counties[(counties[\"county\"] == \"Morris\") & (counties[\"state\"] == \"New Jersey\")],\n",
    "      counties[(counties[\"county\"] == \"Hunterdon\") & (counties[\"state\"] == \"New Jersey\")],\n",
    "      counties[(counties[\"county\"] == \"Pike\") & (counties[\"state\"] == \"New Jersey\")],\n",
    "      counties[(counties[\"county\"] == \"Putnam\") & (counties[\"state\"] == \"New Jersey\")],\n",
    "      counties[(counties[\"county\"] == \"Somerset\") & (counties[\"state\"] == \"New Jersey\")],\n",
    "      counties[(counties[\"county\"] == \"Mercer\") & (counties[\"state\"] == \"New Jersey\")],\n",
    "      counties[(counties[\"county\"] == \"Westchester\") & (counties[\"state\"] == \"New York\")],\n",
    "      counties[(counties[\"county\"] == \"Rockland\") & (counties[\"state\"] == \"New York\")],\n",
    "      counties[(counties[\"county\"] == \"Putnam\") & (counties[\"state\"] == \"New York\")],\n",
    "      counties[(counties[\"county\"] == \"Orange\") & (counties[\"state\"] == \"New York\")],\n",
    "      counties[(counties[\"county\"] == \"Dutchess\") & (counties[\"state\"] == \"New York\")],\n",
    "      counties[(counties[\"county\"] == \"Nassau\") & (counties[\"state\"] == \"New York\")],\n",
    "      counties[(counties[\"county\"] == \"Suffolk\") & (counties[\"state\"] == \"New York\")]\n",
    "     ]\n",
    "greater_nyc_temp = pd.concat(ll).drop(axis=1, labels=[\"state\"])\n",
    "greater_nyc = greater_nyc_temp.pivot(index=\"date\", columns=\"county\", values=\"cases\")\n",
    "greater_nyc.loc[:, \"Total Cases\"] = greater_nyc.sum(axis=1)"
   ]
  },
  {
   "cell_type": "code",
   "execution_count": 5,
   "metadata": {},
   "outputs": [],
   "source": [
    "selection = greater_nyc.columns.to_list()"
   ]
  },
  {
   "cell_type": "code",
   "execution_count": 6,
   "metadata": {},
   "outputs": [],
   "source": [
    "def select_county(county):\n",
    "    fig = plt.figure(figsize=(6,6))\n",
    "    ax = fig.add_subplot(111)\n",
    "    greater_nyc[\"Total Cases\"].plot(x=\"date\", y=\"\")\n",
    "    greater_nyc[county].plot(x=\"date\", y=\"cases\")\n",
    "    ax.set_xlabel(\"Date\")\n",
    "    ax.set_ylabel(\"Cases\")\n",
    "    ax.yaxis.set_major_formatter(mpl.ticker.StrMethodFormatter(\"{x:,.0f}\"))\n",
    "    ax.set_title(\"Total Cases vs {}\".format(county))"
   ]
  },
  {
   "cell_type": "code",
   "execution_count": 7,
   "metadata": {},
   "outputs": [
    {
     "data": {
      "application/vnd.jupyter.widget-view+json": {
       "model_id": "f23ae362a68642258beb64fa3c5cb4ed",
       "version_major": 2,
       "version_minor": 0
      },
      "text/plain": [
       "interactive(children=(Dropdown(description='county', options=('Bergen', 'Dutchess', 'Essex', 'Fairfield', 'Hun…"
      ]
     },
     "metadata": {},
     "output_type": "display_data"
    },
    {
     "data": {
      "text/plain": [
       "<function __main__.select_county(county)>"
      ]
     },
     "execution_count": 7,
     "metadata": {},
     "output_type": "execute_result"
    }
   ],
   "source": [
    "ipywidgets.interact(select_county, county=selection)"
   ]
  },
  {
   "cell_type": "code",
   "execution_count": null,
   "metadata": {},
   "outputs": [],
   "source": []
  }
 ],
 "metadata": {
  "kernelspec": {
   "display_name": "Python 3",
   "language": "python",
   "name": "python3"
  },
  "language_info": {
   "codemirror_mode": {
    "name": "ipython",
    "version": 3
   },
   "file_extension": ".py",
   "mimetype": "text/x-python",
   "name": "python",
   "nbconvert_exporter": "python",
   "pygments_lexer": "ipython3",
   "version": "3.7.7"
  }
 },
 "nbformat": 4,
 "nbformat_minor": 4
}
